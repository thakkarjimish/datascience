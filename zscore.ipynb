import numpy as np
import matplotlib.pyplot as plt
%matplotlib inline

## Define dataset
dataset = [11,10,12,14,12,15,14,13,15,102,12,14,17,19,107,10,13,12,14,12,108,12,11,14,13,15,10,15,12,10,14,13,15,10]

plt.hist(dataset)
outliers = []

def detect_outliers(data):
    threshold=3 ## 3rd standard deviation
    mean=np.mean(data)
    std=np.std(data)
    
    for i in data:
        z_score=(i-mean)/std
        if np.abs(z_score)>threshold:
            outliers.append(i)
    return outliers
detect_outliers(dataset)

#IQR

#Interquartile_range

#Q1=25 Percentile, Q3=75 Percentile
#IQR = Q3(75th Percentile - Q1 (25th Percentile))

#1. Sort the data
#2. Calculate Q1 and Q3
#3. IQR(Q3-Q1)
#4. Find the lower fence(q1-1.5(iqr))
#5. Find the upper fence(q3+1.5(iqr))
#After this, you can remove datapoint above and beyond the lower_fence and higher_fence

dataset=sorted(dataset)
q1,q3=np.percentile(dataset,[25,75])
print(q1,q3)

iqr=q3-q1
print(iqr)

lower_fence=q1-(1.5*iqr)
higher_fence=q3+(1.5*iqr)
print(lower_fence,higher_fence)

import seaborn as sns
sns.boxplot(dataset)
